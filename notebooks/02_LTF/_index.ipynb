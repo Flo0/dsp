{
 "cells": [
  {
   "cell_type": "markdown",
   "source": [
    "<a href=\"../01_LTI/_index.ipynb\">&larr; LTI </a>&loz;\n",
    "<a href=\"../../README.md\"> &uarr; TOC &uarr; </a>&loz;\n",
    "<a href=\"_index.ipynb\"> DFT &rarr;</a>\n",
    "<img src='../_img/icon.svg' align='right' width='10%'></img>\n",
    "# LTF - Zeitdiskrete Signale und LTI-Systeme im Frequenzbereich\n",
    "\n",
    "Dieses  Kapitel beschäftigt sich mit zeitdiskreten Signalen und Systemen im Frequenzbereich. Die Notebooks demonstrieren den Umgang mit Polen und Nullstellen, Betrags- und Phasengang und einfachen Filterstrukturen:"
   ],
   "metadata": {}
  },
  {
   "cell_type": "markdown",
   "source": [
    "* [LTF-Sensor:](LTF-sensor.ipynb) Musterlösung zur Übung \"Filterung des Sensorsignals im Frequenzbereich\"\n",
    "* [LTF-Basics:](LTF-Basics.ipynb) Grundsätzliche Werkzeuge und Konzepte zur Beschreibung von LTI Systemen in der Frequenzebene\n",
    "* [LTF-Animate-PZ:](LTF-Animate_PZ.ipynb) Animierte Darstellung des Zusammenhangs zwischen Betragsgang und Pol-Nullstellen-Plan\n",
    "* [LTF-IIR-allgemein:](LTF-IIR-allgemein.ipynb) Allgemeine IIR Filter, auch für die Übung \"Allgemeine IIR-Struktur\"\n",
    "* [LTF-Integrator:](LTF-Integrator.ipynb) Interactives Notebook, das den Einfluss des Dämpfungsparameters &alpha; eines Integrators in der Zeit- und Frequenzebene demonstriert.\n",
    "* [LTF-Filter_properties:](LTF-Filter_properties.ipynb) Plots der verschiedenen Eigenschaften (Impulsantwort, P/N-Diagramm, Betrags- und Phasengang, Gruppenlaufzeit) eines zeitdiskreten Systems, das durch seine Koeffizienten definiert ist\n",
    "* [LTF-Notchfilter:](LTF-Notchfilter.ipynb) Zusätzliches Material und Musterlösung zur Übung \"Notchfilter\"\n",
    "* [LTF-MA_interactive:](LTF-MA_interactive.ipynb) Versuchen Sie, ein interactives Notebook zu erstellen, das den Zusammenhang zwischen der Länge eines Moving Average Filters und dessen Betragsgang zeigt."
   ],
   "metadata": {}
  },
  {
   "cell_type": "markdown",
   "source": [
    "***\n",
    "### Copyright\n",
    "\n",
    "(c) 2016 - 2021 Prof. Dr. Christian Münker \n",
    "\n",
    "This jupyter notebook is part of a collection of notebooks on various topics of Digital Signal Processing. The latest version can be found at https://github.com/chipmuenk/dsp.\n",
    "\n",
    "This notebook is provided as [Open Educational Resource](https://en.wikipedia.org/wiki/Open_educational_resources). Feel free to use it for your own purposes. The text is licensed under [Creative Commons Attribution 4.0](https://creativecommons.org/licenses/by/4.0/), the code of the IPython examples under the [MIT license](https://opensource.org/licenses/MIT). Please attribute the work as follows: *Christian Münker, Digital Signal Processing - Vorlesungsunterlagen mit Simulationsbeispielen, 2020*."
   ],
   "metadata": {}
  }
 ],
 "metadata": {
  "anaconda-cloud": {},
  "kernelspec": {
   "display_name": "Python 3",
   "language": "python",
   "name": "python3"
  },
  "language_info": {
   "codemirror_mode": {
    "name": "ipython",
    "version": 3
   },
   "file_extension": ".py",
   "mimetype": "text/x-python",
   "name": "python",
   "nbconvert_exporter": "python",
   "pygments_lexer": "ipython3",
   "version": "3.7.4"
  }
 },
 "nbformat": 4,
 "nbformat_minor": 4
}
