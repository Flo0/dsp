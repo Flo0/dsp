{
 "cells": [
  {
   "cell_type": "markdown",
   "source": [
    "<a href=\"../../README.md\"> &uarr; TOC &uarr; </a>&loz;\n",
    "<a href=\"../01_LTI/_index.ipynb\">LTI &rarr;</a>\n",
    "<img src='../_img/icon.svg' align='right' width='10%'></img>\n",
    "# INTRO - Einführung\n",
    "In diesem Kapitel lernen Sie mit Notebooks umzugehen und ein paar grundsätzliche Python-Befehle."
   ],
   "metadata": {}
  },
  {
   "cell_type": "markdown",
   "source": [
    "* [intro-notebook-basics:](intro-notebook-basics.ipynb) Notebook-Basics mit [Musterlösung](intro-notebook-basics_ml.ipynb)\n",
    "* [intro-markdown-formatierung:](intro-markdown-formatierung.ipynb) Formatierung von Textzellen in Notebooks"
   ],
   "metadata": {}
  },
  {
   "cell_type": "markdown",
   "source": [
    "***\n",
    "### Copyright\n",
    "\n",
    "(c) 2016 - 2021 Prof. Dr. Christian Münker \n",
    "\n",
    "This jupyter notebook is part of a collection of notebooks on various topics of Digital Signal Processing. The latest version can be found at https://github.com/chipmuenk/dsp.\n",
    "\n",
    "This notebook is provided as [Open Educational Resource](https://en.wikipedia.org/wiki/Open_educational_resources). Feel free to use it for your own purposes. The text is licensed under [Creative Commons Attribution 4.0](https://creativecommons.org/licenses/by/4.0/), the code of the IPython examples under the [MIT license](https://opensource.org/licenses/MIT). Please attribute the work as follows: *Christian Münker, Digital Signal Processing - Vorlesungsunterlagen mit Simulationsbeispielen, 2021*."
   ],
   "metadata": {}
  },
  {
   "cell_type": "code",
   "execution_count": null,
   "source": [],
   "outputs": [],
   "metadata": {
    "ExecuteTime": {
     "end_time": "2023-12-13T18:28:33.671693100Z",
     "start_time": "2023-12-13T18:28:33.662693900Z"
    }
   }
  }
 ],
 "metadata": {
  "anaconda-cloud": {},
  "kernelspec": {
   "display_name": "Python 3",
   "language": "python",
   "name": "python3"
  },
  "language_info": {
   "codemirror_mode": {
    "name": "ipython",
    "version": 3
   },
   "file_extension": ".py",
   "mimetype": "text/x-python",
   "name": "python",
   "nbconvert_exporter": "python",
   "pygments_lexer": "ipython3",
   "version": "3.8.2"
  }
 },
 "nbformat": 4,
 "nbformat_minor": 4
}
